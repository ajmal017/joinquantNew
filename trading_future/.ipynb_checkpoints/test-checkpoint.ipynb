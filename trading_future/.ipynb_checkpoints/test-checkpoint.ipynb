{
 "cells": [
  {
   "cell_type": "code",
   "execution_count": 2,
   "metadata": {},
   "outputs": [],
   "source": [
    "import pandas as pd"
   ]
  },
  {
   "cell_type": "code",
   "execution_count": 3,
   "metadata": {
    "pycharm": {
     "name": "#%%\n"
    }
   },
   "outputs": [],
   "source": [
    "df=pd.read_hdf('c:/e/data/qe/predictions_score_K100.h5')"
   ]
  },
  {
   "cell_type": "code",
   "execution_count": 4,
   "metadata": {
    "pycharm": {
     "name": "#%%\n"
    }
   },
   "outputs": [],
   "source": [
    "df=df.sort_values(['date', 'position'])"
   ]
  },
  {
   "cell_type": "code",
   "execution_count": 5,
   "metadata": {
    "pycharm": {
     "is_executing": true,
     "name": "#%%\n"
    }
   },
   "outputs": [],
   "source": [
    "df1=df.groupby(['date']).head(10)"
   ]
  },
  {
   "cell_type": "code",
   "execution_count": 7,
   "metadata": {
    "pycharm": {
     "name": "#%%\n"
    }
   },
   "outputs": [
    {
     "data": {
      "text/html": [
       "<div>\n",
       "<style scoped>\n",
       "    .dataframe tbody tr th:only-of-type {\n",
       "        vertical-align: middle;\n",
       "    }\n",
       "\n",
       "    .dataframe tbody tr th {\n",
       "        vertical-align: top;\n",
       "    }\n",
       "\n",
       "    .dataframe thead th {\n",
       "        text-align: right;\n",
       "    }\n",
       "</style>\n",
       "<table border=\"1\" class=\"dataframe\">\n",
       "  <thead>\n",
       "    <tr style=\"text-align: right;\">\n",
       "      <th></th>\n",
       "      <th>date</th>\n",
       "      <th>instrument</th>\n",
       "      <th>score</th>\n",
       "      <th>position</th>\n",
       "    </tr>\n",
       "  </thead>\n",
       "  <tbody>\n",
       "    <tr>\n",
       "      <th>0</th>\n",
       "      <td>2010-01-19</td>\n",
       "      <td>600539.SHA</td>\n",
       "      <td>2.563965</td>\n",
       "      <td>1</td>\n",
       "    </tr>\n",
       "    <tr>\n",
       "      <th>1</th>\n",
       "      <td>2010-01-19</td>\n",
       "      <td>600731.SHA</td>\n",
       "      <td>2.473920</td>\n",
       "      <td>2</td>\n",
       "    </tr>\n",
       "    <tr>\n",
       "      <th>2</th>\n",
       "      <td>2010-01-19</td>\n",
       "      <td>002102.SZA</td>\n",
       "      <td>2.334024</td>\n",
       "      <td>3</td>\n",
       "    </tr>\n",
       "    <tr>\n",
       "      <th>3</th>\n",
       "      <td>2010-01-19</td>\n",
       "      <td>000524.SZA</td>\n",
       "      <td>2.287163</td>\n",
       "      <td>4</td>\n",
       "    </tr>\n",
       "    <tr>\n",
       "      <th>4</th>\n",
       "      <td>2010-01-19</td>\n",
       "      <td>600784.SHA</td>\n",
       "      <td>2.287163</td>\n",
       "      <td>5</td>\n",
       "    </tr>\n",
       "    <tr>\n",
       "      <th>...</th>\n",
       "      <td>...</td>\n",
       "      <td>...</td>\n",
       "      <td>...</td>\n",
       "      <td>...</td>\n",
       "    </tr>\n",
       "    <tr>\n",
       "      <th>25335</th>\n",
       "      <td>2020-06-23</td>\n",
       "      <td>300703.SZA</td>\n",
       "      <td>2.377465</td>\n",
       "      <td>2</td>\n",
       "    </tr>\n",
       "    <tr>\n",
       "      <th>25336</th>\n",
       "      <td>2020-06-23</td>\n",
       "      <td>601818.SHA</td>\n",
       "      <td>2.228958</td>\n",
       "      <td>3</td>\n",
       "    </tr>\n",
       "    <tr>\n",
       "      <th>25337</th>\n",
       "      <td>2020-06-23</td>\n",
       "      <td>601818.SHA</td>\n",
       "      <td>2.228958</td>\n",
       "      <td>3</td>\n",
       "    </tr>\n",
       "    <tr>\n",
       "      <th>25338</th>\n",
       "      <td>2020-06-23</td>\n",
       "      <td>601818.SHA</td>\n",
       "      <td>2.228958</td>\n",
       "      <td>3</td>\n",
       "    </tr>\n",
       "    <tr>\n",
       "      <th>25339</th>\n",
       "      <td>2020-06-23</td>\n",
       "      <td>002862.SZA</td>\n",
       "      <td>1.976853</td>\n",
       "      <td>4</td>\n",
       "    </tr>\n",
       "  </tbody>\n",
       "</table>\n",
       "<p>25340 rows × 4 columns</p>\n",
       "</div>"
      ],
      "text/plain": [
       "            date  instrument     score  position\n",
       "0     2010-01-19  600539.SHA  2.563965         1\n",
       "1     2010-01-19  600731.SHA  2.473920         2\n",
       "2     2010-01-19  002102.SZA  2.334024         3\n",
       "3     2010-01-19  000524.SZA  2.287163         4\n",
       "4     2010-01-19  600784.SHA  2.287163         5\n",
       "...          ...         ...       ...       ...\n",
       "25335 2020-06-23  300703.SZA  2.377465         2\n",
       "25336 2020-06-23  601818.SHA  2.228958         3\n",
       "25337 2020-06-23  601818.SHA  2.228958         3\n",
       "25338 2020-06-23  601818.SHA  2.228958         3\n",
       "25339 2020-06-23  002862.SZA  1.976853         4\n",
       "\n",
       "[25340 rows x 4 columns]"
      ]
     },
     "execution_count": 7,
     "metadata": {},
     "output_type": "execute_result"
    }
   ],
   "source": [
    "df1.reset_index(drop=True)"
   ]
  },
  {
   "cell_type": "code",
   "execution_count": null,
   "metadata": {},
   "outputs": [],
   "source": [
    "df1.reset_index(drop=True).to"
   ]
  }
 ],
 "metadata": {
  "kernelspec": {
   "display_name": "Python 3",
   "language": "python",
   "name": "python3"
  },
  "language_info": {
   "codemirror_mode": {
    "name": "ipython",
    "version": 3
   },
   "file_extension": ".py",
   "mimetype": "text/x-python",
   "name": "python",
   "nbconvert_exporter": "python",
   "pygments_lexer": "ipython3",
   "version": "3.7.6"
  }
 },
 "nbformat": 4,
 "nbformat_minor": 1
}
